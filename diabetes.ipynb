{
  "nbformat": 4,
  "nbformat_minor": 0,
  "metadata": {
    "colab": {
      "provenance": []
    },
    "kernelspec": {
      "name": "python3",
      "display_name": "Python 3"
    },
    "language_info": {
      "name": "python"
    }
  },
  "cells": [
    {
      "cell_type": "markdown",
      "source": [
        "# 🩺 Diabetes Prediction Using Machine Learning\n",
        "\n",
        "This notebook demonstrates how to predict the likelihood of diabetes using health-related features. It walks through data cleaning, model training, evaluation, and visualization using a real dataset. The goal is to build an accurate and explainable prediction tool.\n"
      ],
      "metadata": {
        "id": "ZNW6xZIJek_6"
      }
    },
    {
      "cell_type": "code",
      "source": [
        "from google.colab import files\n",
        "\n",
        "# Upload the CSV file\n",
        "uploaded = files.upload()\n"
      ],
      "metadata": {
        "colab": {
          "base_uri": "https://localhost:8080/",
          "height": 73
        },
        "id": "DGe_6vEZRL8A",
        "outputId": "decd8f6f-677c-48ea-8795-5b2c63582724"
      },
      "execution_count": 38,
      "outputs": [
        {
          "output_type": "display_data",
          "data": {
            "text/plain": [
              "<IPython.core.display.HTML object>"
            ],
            "text/html": [
              "\n",
              "     <input type=\"file\" id=\"files-23f1a4df-9f5a-40eb-9b98-896d93e7392a\" name=\"files[]\" multiple disabled\n",
              "        style=\"border:none\" />\n",
              "     <output id=\"result-23f1a4df-9f5a-40eb-9b98-896d93e7392a\">\n",
              "      Upload widget is only available when the cell has been executed in the\n",
              "      current browser session. Please rerun this cell to enable.\n",
              "      </output>\n",
              "      <script>// Copyright 2017 Google LLC\n",
              "//\n",
              "// Licensed under the Apache License, Version 2.0 (the \"License\");\n",
              "// you may not use this file except in compliance with the License.\n",
              "// You may obtain a copy of the License at\n",
              "//\n",
              "//      http://www.apache.org/licenses/LICENSE-2.0\n",
              "//\n",
              "// Unless required by applicable law or agreed to in writing, software\n",
              "// distributed under the License is distributed on an \"AS IS\" BASIS,\n",
              "// WITHOUT WARRANTIES OR CONDITIONS OF ANY KIND, either express or implied.\n",
              "// See the License for the specific language governing permissions and\n",
              "// limitations under the License.\n",
              "\n",
              "/**\n",
              " * @fileoverview Helpers for google.colab Python module.\n",
              " */\n",
              "(function(scope) {\n",
              "function span(text, styleAttributes = {}) {\n",
              "  const element = document.createElement('span');\n",
              "  element.textContent = text;\n",
              "  for (const key of Object.keys(styleAttributes)) {\n",
              "    element.style[key] = styleAttributes[key];\n",
              "  }\n",
              "  return element;\n",
              "}\n",
              "\n",
              "// Max number of bytes which will be uploaded at a time.\n",
              "const MAX_PAYLOAD_SIZE = 100 * 1024;\n",
              "\n",
              "function _uploadFiles(inputId, outputId) {\n",
              "  const steps = uploadFilesStep(inputId, outputId);\n",
              "  const outputElement = document.getElementById(outputId);\n",
              "  // Cache steps on the outputElement to make it available for the next call\n",
              "  // to uploadFilesContinue from Python.\n",
              "  outputElement.steps = steps;\n",
              "\n",
              "  return _uploadFilesContinue(outputId);\n",
              "}\n",
              "\n",
              "// This is roughly an async generator (not supported in the browser yet),\n",
              "// where there are multiple asynchronous steps and the Python side is going\n",
              "// to poll for completion of each step.\n",
              "// This uses a Promise to block the python side on completion of each step,\n",
              "// then passes the result of the previous step as the input to the next step.\n",
              "function _uploadFilesContinue(outputId) {\n",
              "  const outputElement = document.getElementById(outputId);\n",
              "  const steps = outputElement.steps;\n",
              "\n",
              "  const next = steps.next(outputElement.lastPromiseValue);\n",
              "  return Promise.resolve(next.value.promise).then((value) => {\n",
              "    // Cache the last promise value to make it available to the next\n",
              "    // step of the generator.\n",
              "    outputElement.lastPromiseValue = value;\n",
              "    return next.value.response;\n",
              "  });\n",
              "}\n",
              "\n",
              "/**\n",
              " * Generator function which is called between each async step of the upload\n",
              " * process.\n",
              " * @param {string} inputId Element ID of the input file picker element.\n",
              " * @param {string} outputId Element ID of the output display.\n",
              " * @return {!Iterable<!Object>} Iterable of next steps.\n",
              " */\n",
              "function* uploadFilesStep(inputId, outputId) {\n",
              "  const inputElement = document.getElementById(inputId);\n",
              "  inputElement.disabled = false;\n",
              "\n",
              "  const outputElement = document.getElementById(outputId);\n",
              "  outputElement.innerHTML = '';\n",
              "\n",
              "  const pickedPromise = new Promise((resolve) => {\n",
              "    inputElement.addEventListener('change', (e) => {\n",
              "      resolve(e.target.files);\n",
              "    });\n",
              "  });\n",
              "\n",
              "  const cancel = document.createElement('button');\n",
              "  inputElement.parentElement.appendChild(cancel);\n",
              "  cancel.textContent = 'Cancel upload';\n",
              "  const cancelPromise = new Promise((resolve) => {\n",
              "    cancel.onclick = () => {\n",
              "      resolve(null);\n",
              "    };\n",
              "  });\n",
              "\n",
              "  // Wait for the user to pick the files.\n",
              "  const files = yield {\n",
              "    promise: Promise.race([pickedPromise, cancelPromise]),\n",
              "    response: {\n",
              "      action: 'starting',\n",
              "    }\n",
              "  };\n",
              "\n",
              "  cancel.remove();\n",
              "\n",
              "  // Disable the input element since further picks are not allowed.\n",
              "  inputElement.disabled = true;\n",
              "\n",
              "  if (!files) {\n",
              "    return {\n",
              "      response: {\n",
              "        action: 'complete',\n",
              "      }\n",
              "    };\n",
              "  }\n",
              "\n",
              "  for (const file of files) {\n",
              "    const li = document.createElement('li');\n",
              "    li.append(span(file.name, {fontWeight: 'bold'}));\n",
              "    li.append(span(\n",
              "        `(${file.type || 'n/a'}) - ${file.size} bytes, ` +\n",
              "        `last modified: ${\n",
              "            file.lastModifiedDate ? file.lastModifiedDate.toLocaleDateString() :\n",
              "                                    'n/a'} - `));\n",
              "    const percent = span('0% done');\n",
              "    li.appendChild(percent);\n",
              "\n",
              "    outputElement.appendChild(li);\n",
              "\n",
              "    const fileDataPromise = new Promise((resolve) => {\n",
              "      const reader = new FileReader();\n",
              "      reader.onload = (e) => {\n",
              "        resolve(e.target.result);\n",
              "      };\n",
              "      reader.readAsArrayBuffer(file);\n",
              "    });\n",
              "    // Wait for the data to be ready.\n",
              "    let fileData = yield {\n",
              "      promise: fileDataPromise,\n",
              "      response: {\n",
              "        action: 'continue',\n",
              "      }\n",
              "    };\n",
              "\n",
              "    // Use a chunked sending to avoid message size limits. See b/62115660.\n",
              "    let position = 0;\n",
              "    do {\n",
              "      const length = Math.min(fileData.byteLength - position, MAX_PAYLOAD_SIZE);\n",
              "      const chunk = new Uint8Array(fileData, position, length);\n",
              "      position += length;\n",
              "\n",
              "      const base64 = btoa(String.fromCharCode.apply(null, chunk));\n",
              "      yield {\n",
              "        response: {\n",
              "          action: 'append',\n",
              "          file: file.name,\n",
              "          data: base64,\n",
              "        },\n",
              "      };\n",
              "\n",
              "      let percentDone = fileData.byteLength === 0 ?\n",
              "          100 :\n",
              "          Math.round((position / fileData.byteLength) * 100);\n",
              "      percent.textContent = `${percentDone}% done`;\n",
              "\n",
              "    } while (position < fileData.byteLength);\n",
              "  }\n",
              "\n",
              "  // All done.\n",
              "  yield {\n",
              "    response: {\n",
              "      action: 'complete',\n",
              "    }\n",
              "  };\n",
              "}\n",
              "\n",
              "scope.google = scope.google || {};\n",
              "scope.google.colab = scope.google.colab || {};\n",
              "scope.google.colab._files = {\n",
              "  _uploadFiles,\n",
              "  _uploadFilesContinue,\n",
              "};\n",
              "})(self);\n",
              "</script> "
            ]
          },
          "metadata": {}
        },
        {
          "output_type": "stream",
          "name": "stdout",
          "text": [
            "Saving diabetes.csv to diabetes (3).csv\n"
          ]
        }
      ]
    },
    {
      "cell_type": "code",
      "execution_count": 39,
      "metadata": {
        "colab": {
          "base_uri": "https://localhost:8080/"
        },
        "id": "soiVmTU-Ppun",
        "outputId": "94a0a0cb-9d93-41d6-d7cb-4dd3048c6806"
      },
      "outputs": [
        {
          "output_type": "stream",
          "name": "stdout",
          "text": [
            "   Pregnancies  Glucose  BloodPressure  SkinThickness  Insulin   BMI  \\\n",
            "0            6      148             72             35        0  33.6   \n",
            "1            1       85             66             29        0  26.6   \n",
            "2            8      183             64              0        0  23.3   \n",
            "3            1       89             66             23       94  28.1   \n",
            "4            0      137             40             35      168  43.1   \n",
            "\n",
            "   DiabetesPedigreeFunction  Age  Outcome  \n",
            "0                     0.627   50        1  \n",
            "1                     0.351   31        0  \n",
            "2                     0.672   32        1  \n",
            "3                     0.167   21        0  \n",
            "4                     2.288   33        1  \n"
          ]
        }
      ],
      "source": [
        "import pandas as pd\n",
        "\n",
        "# Step 1: Load the CSV file\n",
        "df = pd.read_csv(\"diabetes.csv\")\n",
        "\n",
        "# Step 2: Show first 5 rows\n",
        "print(df.head())\n"
      ]
    },
    {
      "cell_type": "markdown",
      "source": [
        "Checking  for Missing or Strange Data"
      ],
      "metadata": {
        "id": "JAz5yXD4QGyP"
      }
    },
    {
      "cell_type": "code",
      "source": [
        "# Step 1: See general info\n",
        "print(df.info())\n",
        "\n",
        "# Step 2: See summary statistics\n",
        "print(df.describe())\n",
        "\n",
        "# Step 3: Check if any column has missing values\n",
        "print(df.isnull().sum())\n"
      ],
      "metadata": {
        "colab": {
          "base_uri": "https://localhost:8080/"
        },
        "id": "39TIBPHOQJJs",
        "outputId": "425872ed-ad59-4a29-e565-190c99dcff51"
      },
      "execution_count": 40,
      "outputs": [
        {
          "output_type": "stream",
          "name": "stdout",
          "text": [
            "<class 'pandas.core.frame.DataFrame'>\n",
            "RangeIndex: 768 entries, 0 to 767\n",
            "Data columns (total 9 columns):\n",
            " #   Column                    Non-Null Count  Dtype  \n",
            "---  ------                    --------------  -----  \n",
            " 0   Pregnancies               768 non-null    int64  \n",
            " 1   Glucose                   768 non-null    int64  \n",
            " 2   BloodPressure             768 non-null    int64  \n",
            " 3   SkinThickness             768 non-null    int64  \n",
            " 4   Insulin                   768 non-null    int64  \n",
            " 5   BMI                       768 non-null    float64\n",
            " 6   DiabetesPedigreeFunction  768 non-null    float64\n",
            " 7   Age                       768 non-null    int64  \n",
            " 8   Outcome                   768 non-null    int64  \n",
            "dtypes: float64(2), int64(7)\n",
            "memory usage: 54.1 KB\n",
            "None\n",
            "       Pregnancies     Glucose  BloodPressure  SkinThickness     Insulin  \\\n",
            "count   768.000000  768.000000     768.000000     768.000000  768.000000   \n",
            "mean      3.845052  120.894531      69.105469      20.536458   79.799479   \n",
            "std       3.369578   31.972618      19.355807      15.952218  115.244002   \n",
            "min       0.000000    0.000000       0.000000       0.000000    0.000000   \n",
            "25%       1.000000   99.000000      62.000000       0.000000    0.000000   \n",
            "50%       3.000000  117.000000      72.000000      23.000000   30.500000   \n",
            "75%       6.000000  140.250000      80.000000      32.000000  127.250000   \n",
            "max      17.000000  199.000000     122.000000      99.000000  846.000000   \n",
            "\n",
            "              BMI  DiabetesPedigreeFunction         Age     Outcome  \n",
            "count  768.000000                768.000000  768.000000  768.000000  \n",
            "mean    31.992578                  0.471876   33.240885    0.348958  \n",
            "std      7.884160                  0.331329   11.760232    0.476951  \n",
            "min      0.000000                  0.078000   21.000000    0.000000  \n",
            "25%     27.300000                  0.243750   24.000000    0.000000  \n",
            "50%     32.000000                  0.372500   29.000000    0.000000  \n",
            "75%     36.600000                  0.626250   41.000000    1.000000  \n",
            "max     67.100000                  2.420000   81.000000    1.000000  \n",
            "Pregnancies                 0\n",
            "Glucose                     0\n",
            "BloodPressure               0\n",
            "SkinThickness               0\n",
            "Insulin                     0\n",
            "BMI                         0\n",
            "DiabetesPedigreeFunction    0\n",
            "Age                         0\n",
            "Outcome                     0\n",
            "dtype: int64\n"
          ]
        }
      ]
    },
    {
      "cell_type": "markdown",
      "source": [
        "Replace Fake Zeros with Real “Missing Values”"
      ],
      "metadata": {
        "id": "Y_dSzpO0QT_R"
      }
    },
    {
      "cell_type": "code",
      "source": [
        "# Replace 0s with NaN (Not a Number = missing)\n",
        "columns_with_zeros = ['Glucose', 'BloodPressure', 'SkinThickness', 'Insulin', 'BMI']\n",
        "for column in columns_with_zeros:\n",
        "    df[column] = df[column].replace(0, pd.NA)\n",
        "\n",
        "# Now check how many missing values there are\n",
        "print(df.isnull().sum())\n"
      ],
      "metadata": {
        "colab": {
          "base_uri": "https://localhost:8080/"
        },
        "id": "5yNWgN7TQVC5",
        "outputId": "eb00460c-8b46-4e87-b46f-919f18bd6e98"
      },
      "execution_count": 41,
      "outputs": [
        {
          "output_type": "stream",
          "name": "stdout",
          "text": [
            "Pregnancies                   0\n",
            "Glucose                       5\n",
            "BloodPressure                35\n",
            "SkinThickness               227\n",
            "Insulin                     374\n",
            "BMI                          11\n",
            "DiabetesPedigreeFunction      0\n",
            "Age                           0\n",
            "Outcome                       0\n",
            "dtype: int64\n"
          ]
        }
      ]
    },
    {
      "cell_type": "markdown",
      "source": [
        "Fill Missing Values (so ML won’t break)"
      ],
      "metadata": {
        "id": "39Psc1QtQfOO"
      }
    },
    {
      "cell_type": "code",
      "source": [
        "# Fill missing values with the average of each column\n",
        "df.fillna(df.mean(), inplace=True)\n",
        "\n",
        "# Check again to make sure no missing values\n",
        "print(df.isnull().sum())\n"
      ],
      "metadata": {
        "colab": {
          "base_uri": "https://localhost:8080/"
        },
        "id": "5iEfjH6FQf95",
        "outputId": "a14daf5d-c867-4699-aeda-76b373281ce1"
      },
      "execution_count": 42,
      "outputs": [
        {
          "output_type": "stream",
          "name": "stdout",
          "text": [
            "Pregnancies                 0\n",
            "Glucose                     0\n",
            "BloodPressure               0\n",
            "SkinThickness               0\n",
            "Insulin                     0\n",
            "BMI                         0\n",
            "DiabetesPedigreeFunction    0\n",
            "Age                         0\n",
            "Outcome                     0\n",
            "dtype: int64\n"
          ]
        },
        {
          "output_type": "stream",
          "name": "stderr",
          "text": [
            "/tmp/ipython-input-4242127367.py:2: FutureWarning: Downcasting object dtype arrays on .fillna, .ffill, .bfill is deprecated and will change in a future version. Call result.infer_objects(copy=False) instead. To opt-in to the future behavior, set `pd.set_option('future.no_silent_downcasting', True)`\n",
            "  df.fillna(df.mean(), inplace=True)\n"
          ]
        }
      ]
    },
    {
      "cell_type": "code",
      "source": [
        "# Split Data into Train and Test Sets"
      ],
      "metadata": {
        "id": "r-ddhk2iQu6J"
      },
      "execution_count": 43,
      "outputs": []
    },
    {
      "cell_type": "code",
      "source": [
        "from sklearn.preprocessing import StandardScaler\n",
        "from sklearn.model_selection import train_test_split\n",
        "\n",
        "# Separate features and target\n",
        "X = df.drop('Outcome', axis=1)\n",
        "y = df['Outcome']\n",
        "\n",
        "# Step 1: Scale features\n",
        "scaler = StandardScaler()\n",
        "X_scaled = scaler.fit_transform(X)\n",
        "\n",
        "# Step 2: Split scaled data\n",
        "X_train, X_test, y_train, y_test = train_test_split(X_scaled, y, test_size=0.2, random_state=42)\n"
      ],
      "metadata": {
        "id": "wa8ehP6uQvyH"
      },
      "execution_count": 44,
      "outputs": []
    },
    {
      "cell_type": "markdown",
      "source": [
        "Train a Model (Random Forest)"
      ],
      "metadata": {
        "id": "dVMkWiOEQ5B-"
      }
    },
    {
      "cell_type": "code",
      "source": [
        "from sklearn.ensemble import RandomForestClassifier\n",
        "from sklearn.model_selection import GridSearchCV\n",
        "\n",
        "# Define model + hyperparameter grid\n",
        "rf = RandomForestClassifier(random_state=42)\n",
        "\n",
        "param_grid = {\n",
        "    'n_estimators': [100, 200, 300],  # number of trees\n",
        "    'max_depth': [None, 10, 20],\n",
        "    'min_samples_split': [2, 5],\n",
        "    'min_samples_leaf': [1, 2]\n",
        "}\n",
        "\n",
        "# Grid Search for best parameters\n",
        "grid_search = GridSearchCV(estimator=rf, param_grid=param_grid,\n",
        "                           cv=5, n_jobs=-1, verbose=1, scoring='accuracy')\n",
        "\n",
        "# Train with best parameters\n",
        "grid_search.fit(X_train, y_train)\n",
        "\n",
        "# Use best model\n",
        "best_model = grid_search.best_estimator_\n",
        "\n",
        "# Predict\n",
        "y_pred = best_model.predict(X_test)\n",
        "\n",
        "# Evaluate\n",
        "from sklearn.metrics import accuracy_score, classification_report, confusion_matrix\n",
        "\n",
        "accuracy = accuracy_score(y_test, y_pred)\n",
        "print(f\"Tuned Random Forest Accuracy: {accuracy:.2f}\")\n",
        "print(\"Confusion Matrix:\")\n",
        "print(confusion_matrix(y_test, y_pred))\n",
        "print(\"Classification Report:\")\n",
        "print(classification_report(y_test, y_pred))\n"
      ],
      "metadata": {
        "colab": {
          "base_uri": "https://localhost:8080/"
        },
        "id": "sM7hMbrZQ5l0",
        "outputId": "87137f66-e46d-45a9-f187-9ba188370339"
      },
      "execution_count": 45,
      "outputs": [
        {
          "output_type": "stream",
          "name": "stdout",
          "text": [
            "Fitting 5 folds for each of 36 candidates, totalling 180 fits\n",
            "Tuned Random Forest Accuracy: 0.75\n",
            "Confusion Matrix:\n",
            "[[77 22]\n",
            " [17 38]]\n",
            "Classification Report:\n",
            "              precision    recall  f1-score   support\n",
            "\n",
            "           0       0.82      0.78      0.80        99\n",
            "           1       0.63      0.69      0.66        55\n",
            "\n",
            "    accuracy                           0.75       154\n",
            "   macro avg       0.73      0.73      0.73       154\n",
            "weighted avg       0.75      0.75      0.75       154\n",
            "\n"
          ]
        }
      ]
    },
    {
      "cell_type": "markdown",
      "source": [
        "Predict and Check Accuracy"
      ],
      "metadata": {
        "id": "8uqLmcx8Q7Ii"
      }
    },
    {
      "cell_type": "code",
      "source": [
        "from sklearn.metrics import accuracy_score, confusion_matrix, classification_report\n",
        "\n",
        "# Make predictions on test data\n",
        "y_pred = model.predict(X_test)\n",
        "\n",
        "# Accuracy\n",
        "accuracy = accuracy_score(y_test, y_pred)\n",
        "print(f\"Accuracy: {accuracy:.2f}\")\n",
        "\n",
        "# Confusion Matrix\n",
        "print(\"Confusion Matrix:\")\n",
        "print(confusion_matrix(y_test, y_pred))\n",
        "\n",
        "# Detailed Metrics\n",
        "print(\"Classification Report:\")\n",
        "print(classification_report(y_test, y_pred))\n"
      ],
      "metadata": {
        "colab": {
          "base_uri": "https://localhost:8080/"
        },
        "id": "1vo3_cUnQ94s",
        "outputId": "83fd264c-32b1-4279-a931-a16f17766a24"
      },
      "execution_count": 46,
      "outputs": [
        {
          "output_type": "stream",
          "name": "stdout",
          "text": [
            "Accuracy: 0.75\n",
            "Confusion Matrix:\n",
            "[[84 15]\n",
            " [23 32]]\n",
            "Classification Report:\n",
            "              precision    recall  f1-score   support\n",
            "\n",
            "           0       0.79      0.85      0.82        99\n",
            "           1       0.68      0.58      0.63        55\n",
            "\n",
            "    accuracy                           0.75       154\n",
            "   macro avg       0.73      0.72      0.72       154\n",
            "weighted avg       0.75      0.75      0.75       154\n",
            "\n"
          ]
        }
      ]
    },
    {
      "cell_type": "markdown",
      "source": [
        "Feature Importance Plot\n",
        "\n",
        "This plot shows which features influenced the model's decision the most."
      ],
      "metadata": {
        "id": "pWL1_UeQbL3G"
      }
    },
    {
      "cell_type": "code",
      "source": [
        "import matplotlib.pyplot as plt\n",
        "\n",
        "# Plot feature importance from the Random Forest model\n",
        "importances = best_model.feature_importances_\n",
        "features = X.columns\n",
        "\n",
        "plt.figure(figsize=(10,6))\n",
        "plt.bar(features, importances, color='orange')\n",
        "plt.xticks(rotation=45)\n",
        "plt.title('Feature Importance - Random Forest')\n",
        "plt.show()"
      ],
      "metadata": {
        "colab": {
          "base_uri": "https://localhost:8080/",
          "height": 669
        },
        "id": "IzV4fRkobMkK",
        "outputId": "fb365ba2-047c-45a8-acd1-97846fbff204"
      },
      "execution_count": 48,
      "outputs": [
        {
          "output_type": "display_data",
          "data": {
            "text/plain": [
              "<Figure size 1000x600 with 1 Axes>"
            ],
            "image/png": "[encoded data removed]"
          },
          "metadata": {}
        }
      ]
    },
    {
      "cell_type": "markdown",
      "source": [
        "Feature Importance – What Affects Diabetes Prediction?\n",
        "This bar chart shows which medical features the model found most important in predicting diabetes.\n",
        "\n",
        "Glucose has the strongest impact on predictions — high levels are often linked to diabetes.\n",
        "\n",
        "BMI and Age also play major roles.\n",
        "\n",
        "Other features like Blood Pressure, Insulin, and Pregnancies have smaller but still meaningful effects.\n",
        "\n",
        "Why this matters: Understanding feature importance helps us know which patient data is most influential for accurate predictions and can guide future data collection or model tuning."
      ],
      "metadata": {
        "id": "oZGpVZ4CdBXN"
      }
    },
    {
      "cell_type": "markdown",
      "source": [
        "Confusion Matrix\n",
        "This matrix shows the number of correct and incorrect predictions."
      ],
      "metadata": {
        "id": "3ZR_YPcTbaCH"
      }
    },
    {
      "cell_type": "code",
      "source": [
        "from sklearn.metrics import ConfusionMatrixDisplay\n",
        "\n",
        "# Plot confusion matrix\n",
        "ConfusionMatrixDisplay.from_estimator(best_model, X_test, y_test,\n",
        "                                      display_labels=[\"Not Diabetic\", \"Diabetic\"],\n",
        "                                      cmap='viridis', colorbar=True)\n",
        "plt.title(\"Confusion Matrix - Diabetes Prediction\")\n",
        "plt.show()"
      ],
      "metadata": {
        "colab": {
          "base_uri": "https://localhost:8080/",
          "height": 472
        },
        "id": "dR9VKOZYbe0p",
        "outputId": "bfd5321f-5169-4923-8798-bd89fa0f19f9"
      },
      "execution_count": 49,
      "outputs": [
        {
          "output_type": "display_data",
          "data": {
            "text/plain": [
              "<Figure size 640x480 with 2 Axes>"
            ],
            "image/png": "[encoded data removed]"
          },
          "metadata": {}
        }
      ]
    },
    {
      "cell_type": "markdown",
      "source": [
        "Confusion Matrix – Model Performance Overview\n",
        "This confusion matrix illustrates the classification results of the diabetes prediction model. It compares the true labels (actual patient condition) with the predicted labels generated by the model.\n",
        "\n",
        "![image.png](data:image/png;base64,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)\n",
        "\n",
        "🔍 Interpretation:\n",
        "True Negatives (77): The model correctly predicted Not Diabetic patients.\n",
        "\n",
        "True Positives (38): The model correctly predicted Diabetic patients.\n",
        "\n",
        "False Positives (22): These are healthy individuals wrongly predicted as diabetic.\n",
        "\n",
        "False Negatives (17): These are diabetic individuals wrongly predicted as healthy.\n",
        "\n",
        "📊 Key Metrics:\n",
        "Accuracy: (77 + 38) / 154 = 75%\n",
        "\n",
        "Precision (Diabetic): 38 / (38 + 22) ≈ 63%\n",
        "\n",
        "Recall (Diabetic): 38 / (38 + 17) ≈ 69%\n",
        "\n",
        "Conclusion: The model is better at detecting non-diabetic patients, but still performs reasonably well in identifying diabetic cases.\n",
        "\n",
        "This evaluation helps assess model strengths and limitations, guiding future improvements like feature tuning or model selection (e.g., using boosting)"
      ],
      "metadata": {
        "id": "YTUuDhzDdFk9"
      }
    },
    {
      "cell_type": "markdown",
      "source": [
        "Predict for manual input"
      ],
      "metadata": {
        "id": "i99tLZlgcrCj"
      }
    },
    {
      "cell_type": "code",
      "source": [
        "sample = [[2, 140, 70, 20, 79, 32.0, 0.5, 18]]\n",
        "prediction = model.predict(sample)\n",
        "print(\"Prediction:\", \"Diabetic\" if prediction[0]==1 else \"Not Diabetic\")"
      ],
      "metadata": {
        "colab": {
          "base_uri": "https://localhost:8080/"
        },
        "id": "vL75jnxAcuny",
        "outputId": "872eca28-9f77-41fe-9e11-2828e77ba1ad"
      },
      "execution_count": 51,
      "outputs": [
        {
          "output_type": "stream",
          "name": "stdout",
          "text": [
            "Prediction: Not Diabetic\n"
          ]
        }
      ]
    },
    {
      "cell_type": "markdown",
      "source": [
        " Final Thoughts\n",
        "\n",
        "- The model achieves **75% accuracy** with balanced performance.\n",
        "- Most important features: **Glucose, BMI, Age**\n",
        "- Good base for building real health apps.\n",
        "- Further improvements: Try XGBoost, hyperparameter tuning, or more data.\n"
      ],
      "metadata": {
        "id": "5H2oLvDicUqF"
      }
    }
  ]
}